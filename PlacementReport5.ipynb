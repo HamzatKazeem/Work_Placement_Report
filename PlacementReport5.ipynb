{
 "cells": [
  {
   "cell_type": "markdown",
   "metadata": {},
   "source": [
    "# Customer Feedback Analysis of Highfield Twitter Account\n",
    "\n",
    " Tweet messages directed at Highfield Account were retrived and analyzed to determined the Twitter \n",
    " users reactions if they are positive or negative.  Topical Words were identified and map visualizations(using GPS cordinates) was used to show Twitter users locations. 'askhighfield' was used as the query string to search the Tweets."
   ]
  },
  {
   "cell_type": "code",
   "execution_count": 4,
   "metadata": {},
   "outputs": [],
   "source": [
    "import tweepy   #Twitter API Streamlistner package\n",
    "import preprocessor as p"
   ]
  },
  {
   "cell_type": "code",
   "execution_count": 5,
   "metadata": {},
   "outputs": [],
   "source": [
    "from tweetmethods import get_API,twoplus2,get_tweet_content,get_tweet_sentiment,get_geocodes,ukMap,show_WordCloud,cleanTwits"
   ]
  },
  {
   "cell_type": "code",
   "execution_count": 6,
   "metadata": {},
   "outputs": [],
   "source": [
    "api = get_API() # Oauth Handler"
   ]
  },
  {
   "cell_type": "code",
   "execution_count": 7,
   "metadata": {},
   "outputs": [],
   "source": [
    "search_key='askhighfield'"
   ]
  },
  {
   "cell_type": "code",
   "execution_count": 10,
   "metadata": {},
   "outputs": [],
   "source": [
    "cursor=tweepy.Cursor(api.search,search_key,count=200,tweet_mode='extended')"
   ]
  },
  {
   "cell_type": "markdown",
   "metadata": {},
   "source": [
    "# Connecting to Twitter to retrieve Tweets. \n",
    "\n",
    "Total no of 35 Tweets were returned as shown below."
   ]
  },
  {
   "cell_type": "code",
   "execution_count": 11,
   "metadata": {},
   "outputs": [],
   "source": [
    "tweets=get_tweet_content(cursor)"
   ]
  },
  {
   "cell_type": "code",
   "execution_count": 44,
   "metadata": {},
   "outputs": [
    {
     "data": {
      "text/plain": [
       "{'Name': 'Emma',\n",
       " 'Twitter_handle': 'ederner',\n",
       " 'text': 'Exams sorry',\n",
       " 'location': 'Nottingham',\n",
       " 'Time_Created': '2020-08-20 03:12:21 PM',\n",
       " 'sentiment': 'Negative',\n",
       " 'latitude': 52.9534161,\n",
       " 'longitude': -1.1492773}"
      ]
     },
     "execution_count": 44,
     "metadata": {},
     "output_type": "execute_result"
    }
   ],
   "source": [
    "tweets[0]"
   ]
  },
  {
   "cell_type": "code",
   "execution_count": 16,
   "metadata": {},
   "outputs": [
    {
     "data": {
      "text/plain": [
       "{'Name': 'Emma',\n",
       " 'Twitter_handle': 'ederner',\n",
       " 'text': \"@askhighfield Took my ex in may, I STILL don't have my certificates. It's all well and done digitising everything but it shouldn't take three months to print out and post certificates\",\n",
       " 'location': 'Nottingham',\n",
       " 'Time_Created': '2020-08-20 03:12:02 PM'}"
      ]
     },
     "execution_count": 16,
     "metadata": {},
     "output_type": "execute_result"
    }
   ],
   "source": [
    "tweets[1]"
   ]
  },
  {
   "cell_type": "code",
   "execution_count": 17,
   "metadata": {},
   "outputs": [
    {
     "data": {
      "text/plain": [
       "{'Name': 'Emma',\n",
       " 'Twitter_handle': 'ederner',\n",
       " 'text': \"@askhighfield hi. I passed my exams in April, got the results mid may. Level 3 business Admin. I'm still waiting for my certificates. Can you please advise as to how long it will be before I recieved them? 4 Months is a ridiculous amount of time to wait pandemic or not.\",\n",
       " 'location': 'Nottingham',\n",
       " 'Time_Created': '2020-08-13 08:59:17 AM'}"
      ]
     },
     "execution_count": 17,
     "metadata": {},
     "output_type": "execute_result"
    }
   ],
   "source": [
    "tweets[33]"
   ]
  },
  {
   "cell_type": "code",
   "execution_count": 18,
   "metadata": {},
   "outputs": [],
   "source": [
    "dataFrame=pd.DataFrame(tweets) # Converting list to Dataframes"
   ]
  },
  {
   "cell_type": "code",
   "execution_count": 19,
   "metadata": {},
   "outputs": [
    {
     "data": {
      "text/html": [
       "<div>\n",
       "<style scoped>\n",
       "    .dataframe tbody tr th:only-of-type {\n",
       "        vertical-align: middle;\n",
       "    }\n",
       "\n",
       "    .dataframe tbody tr th {\n",
       "        vertical-align: top;\n",
       "    }\n",
       "\n",
       "    .dataframe thead th {\n",
       "        text-align: right;\n",
       "    }\n",
       "</style>\n",
       "<table border=\"1\" class=\"dataframe\">\n",
       "  <thead>\n",
       "    <tr style=\"text-align: right;\">\n",
       "      <th></th>\n",
       "      <th>Name</th>\n",
       "      <th>Twitter_handle</th>\n",
       "      <th>text</th>\n",
       "      <th>location</th>\n",
       "      <th>Time_Created</th>\n",
       "    </tr>\n",
       "  </thead>\n",
       "  <tbody>\n",
       "    <tr>\n",
       "      <th>0</th>\n",
       "      <td>Emma</td>\n",
       "      <td>ederner</td>\n",
       "      <td>@askhighfield Exams sorry</td>\n",
       "      <td>Nottingham</td>\n",
       "      <td>2020-08-20 03:12:21 PM</td>\n",
       "    </tr>\n",
       "    <tr>\n",
       "      <th>1</th>\n",
       "      <td>Emma</td>\n",
       "      <td>ederner</td>\n",
       "      <td>@askhighfield Took my ex in may, I STILL don't...</td>\n",
       "      <td>Nottingham</td>\n",
       "      <td>2020-08-20 03:12:02 PM</td>\n",
       "    </tr>\n",
       "    <tr>\n",
       "      <th>2</th>\n",
       "      <td>Highfield</td>\n",
       "      <td>askhighfield</td>\n",
       "      <td>Vocational and Technical Qualifications – Resu...</td>\n",
       "      <td>Doncaster, South Yorkshire, UK</td>\n",
       "      <td>2020-08-20 03:00:28 PM</td>\n",
       "    </tr>\n",
       "    <tr>\n",
       "      <th>3</th>\n",
       "      <td>Highfield</td>\n",
       "      <td>askhighfield</td>\n",
       "      <td>Have your own specific content and resources f...</td>\n",
       "      <td>Doncaster, South Yorkshire, UK</td>\n",
       "      <td>2020-08-20 01:34:55 PM</td>\n",
       "    </tr>\n",
       "    <tr>\n",
       "      <th>4</th>\n",
       "      <td>Sapphire Malcolm</td>\n",
       "      <td>malcolm34341</td>\n",
       "      <td>@CafeLeep @Leep1leeds @daznixon1989 @Connectin...</td>\n",
       "      <td>Leeds, England</td>\n",
       "      <td>2020-08-18 01:02:28 PM</td>\n",
       "    </tr>\n",
       "  </tbody>\n",
       "</table>\n",
       "</div>"
      ],
      "text/plain": [
       "               Name Twitter_handle  \\\n",
       "0              Emma        ederner   \n",
       "1              Emma        ederner   \n",
       "2         Highfield   askhighfield   \n",
       "3         Highfield   askhighfield   \n",
       "4  Sapphire Malcolm   malcolm34341   \n",
       "\n",
       "                                                text  \\\n",
       "0                          @askhighfield Exams sorry   \n",
       "1  @askhighfield Took my ex in may, I STILL don't...   \n",
       "2  Vocational and Technical Qualifications – Resu...   \n",
       "3  Have your own specific content and resources f...   \n",
       "4  @CafeLeep @Leep1leeds @daznixon1989 @Connectin...   \n",
       "\n",
       "                         location            Time_Created  \n",
       "0                      Nottingham  2020-08-20 03:12:21 PM  \n",
       "1                      Nottingham  2020-08-20 03:12:02 PM  \n",
       "2  Doncaster, South Yorkshire, UK  2020-08-20 03:00:28 PM  \n",
       "3  Doncaster, South Yorkshire, UK  2020-08-20 01:34:55 PM  \n",
       "4                  Leeds, England  2020-08-18 01:02:28 PM  "
      ]
     },
     "execution_count": 19,
     "metadata": {},
     "output_type": "execute_result"
    }
   ],
   "source": [
    "dataFrame.head() # Top 5 of Daataframe"
   ]
  },
  {
   "cell_type": "code",
   "execution_count": 20,
   "metadata": {},
   "outputs": [
    {
     "data": {
      "text/html": [
       "<div>\n",
       "<style scoped>\n",
       "    .dataframe tbody tr th:only-of-type {\n",
       "        vertical-align: middle;\n",
       "    }\n",
       "\n",
       "    .dataframe tbody tr th {\n",
       "        vertical-align: top;\n",
       "    }\n",
       "\n",
       "    .dataframe thead th {\n",
       "        text-align: right;\n",
       "    }\n",
       "</style>\n",
       "<table border=\"1\" class=\"dataframe\">\n",
       "  <thead>\n",
       "    <tr style=\"text-align: right;\">\n",
       "      <th></th>\n",
       "      <th>Name</th>\n",
       "      <th>Twitter_handle</th>\n",
       "      <th>text</th>\n",
       "      <th>location</th>\n",
       "      <th>Time_Created</th>\n",
       "    </tr>\n",
       "  </thead>\n",
       "  <tbody>\n",
       "    <tr>\n",
       "      <th>31</th>\n",
       "      <td>Sapphire Malcolm</td>\n",
       "      <td>malcolm34341</td>\n",
       "      <td>@CafeLeep @GetKahoot @Leep1leeds @leedslibrari...</td>\n",
       "      <td>Leeds, England</td>\n",
       "      <td>2020-08-14 12:03:43 PM</td>\n",
       "    </tr>\n",
       "    <tr>\n",
       "      <th>32</th>\n",
       "      <td>Health and Safety</td>\n",
       "      <td>hstukcom</td>\n",
       "      <td>To ensure everyone present on your site is ful...</td>\n",
       "      <td>North East England</td>\n",
       "      <td>2020-08-13 09:30:22 AM</td>\n",
       "    </tr>\n",
       "    <tr>\n",
       "      <th>33</th>\n",
       "      <td>Emma</td>\n",
       "      <td>ederner</td>\n",
       "      <td>@askhighfield hi. I passed my exams in April, ...</td>\n",
       "      <td>Nottingham</td>\n",
       "      <td>2020-08-13 08:59:17 AM</td>\n",
       "    </tr>\n",
       "    <tr>\n",
       "      <th>34</th>\n",
       "      <td>Andy Constantine</td>\n",
       "      <td>HighfieldAndy</td>\n",
       "      <td>@TallPaulTurner @TheNigelAdkins @askhighfield ...</td>\n",
       "      <td>Doncaster</td>\n",
       "      <td>2020-08-13 08:33:07 AM</td>\n",
       "    </tr>\n",
       "    <tr>\n",
       "      <th>35</th>\n",
       "      <td>Paul Turner</td>\n",
       "      <td>TallPaulTurner</td>\n",
       "      <td>Starting the day with @TheNigelAdkins inspired...</td>\n",
       "      <td>Beverley, England</td>\n",
       "      <td>2020-08-13 07:12:04 AM</td>\n",
       "    </tr>\n",
       "  </tbody>\n",
       "</table>\n",
       "</div>"
      ],
      "text/plain": [
       "                 Name  Twitter_handle  \\\n",
       "31   Sapphire Malcolm    malcolm34341   \n",
       "32  Health and Safety        hstukcom   \n",
       "33               Emma         ederner   \n",
       "34   Andy Constantine   HighfieldAndy   \n",
       "35        Paul Turner  TallPaulTurner   \n",
       "\n",
       "                                                 text            location  \\\n",
       "31  @CafeLeep @GetKahoot @Leep1leeds @leedslibrari...      Leeds, England   \n",
       "32  To ensure everyone present on your site is ful...  North East England   \n",
       "33  @askhighfield hi. I passed my exams in April, ...          Nottingham   \n",
       "34  @TallPaulTurner @TheNigelAdkins @askhighfield ...           Doncaster   \n",
       "35  Starting the day with @TheNigelAdkins inspired...   Beverley, England   \n",
       "\n",
       "              Time_Created  \n",
       "31  2020-08-14 12:03:43 PM  \n",
       "32  2020-08-13 09:30:22 AM  \n",
       "33  2020-08-13 08:59:17 AM  \n",
       "34  2020-08-13 08:33:07 AM  \n",
       "35  2020-08-13 07:12:04 AM  "
      ]
     },
     "execution_count": 20,
     "metadata": {},
     "output_type": "execute_result"
    }
   ],
   "source": [
    "dataFrame.tail() #bottom of Dataframe"
   ]
  },
  {
   "cell_type": "markdown",
   "metadata": {},
   "source": [
    "# Cleaning the Tweets"
   ]
  },
  {
   "cell_type": "code",
   "execution_count": 21,
   "metadata": {},
   "outputs": [],
   "source": [
    "tweets=cleanTwits(tweets)"
   ]
  },
  {
   "cell_type": "code",
   "execution_count": 22,
   "metadata": {},
   "outputs": [],
   "source": [
    "dataFrame1=pd.DataFrame(tweets)"
   ]
  },
  {
   "cell_type": "code",
   "execution_count": 23,
   "metadata": {},
   "outputs": [
    {
     "data": {
      "text/html": [
       "<div>\n",
       "<style scoped>\n",
       "    .dataframe tbody tr th:only-of-type {\n",
       "        vertical-align: middle;\n",
       "    }\n",
       "\n",
       "    .dataframe tbody tr th {\n",
       "        vertical-align: top;\n",
       "    }\n",
       "\n",
       "    .dataframe thead th {\n",
       "        text-align: right;\n",
       "    }\n",
       "</style>\n",
       "<table border=\"1\" class=\"dataframe\">\n",
       "  <thead>\n",
       "    <tr style=\"text-align: right;\">\n",
       "      <th></th>\n",
       "      <th>Name</th>\n",
       "      <th>Twitter_handle</th>\n",
       "      <th>text</th>\n",
       "      <th>location</th>\n",
       "      <th>Time_Created</th>\n",
       "    </tr>\n",
       "  </thead>\n",
       "  <tbody>\n",
       "    <tr>\n",
       "      <th>0</th>\n",
       "      <td>Emma</td>\n",
       "      <td>ederner</td>\n",
       "      <td>Exams sorry</td>\n",
       "      <td>Nottingham</td>\n",
       "      <td>2020-08-20 03:12:21 PM</td>\n",
       "    </tr>\n",
       "    <tr>\n",
       "      <th>1</th>\n",
       "      <td>Emma</td>\n",
       "      <td>ederner</td>\n",
       "      <td>Took my ex in may I STILL don t have my certif...</td>\n",
       "      <td>Nottingham</td>\n",
       "      <td>2020-08-20 03:12:02 PM</td>\n",
       "    </tr>\n",
       "    <tr>\n",
       "      <th>2</th>\n",
       "      <td>Highfield</td>\n",
       "      <td>askhighfield</td>\n",
       "      <td>Vocational and Technical Qualifications Result...</td>\n",
       "      <td>Doncaster, South Yorkshire, UK</td>\n",
       "      <td>2020-08-20 03:00:28 PM</td>\n",
       "    </tr>\n",
       "    <tr>\n",
       "      <th>3</th>\n",
       "      <td>Highfield</td>\n",
       "      <td>askhighfield</td>\n",
       "      <td>Have your own specific content and resources f...</td>\n",
       "      <td>Doncaster, South Yorkshire, UK</td>\n",
       "      <td>2020-08-20 01:34:55 PM</td>\n",
       "    </tr>\n",
       "    <tr>\n",
       "      <th>4</th>\n",
       "      <td>Sapphire Malcolm</td>\n",
       "      <td>malcolm34341</td>\n",
       "      <td>on the i Not sure there any easy read any chance</td>\n",
       "      <td>Leeds, England</td>\n",
       "      <td>2020-08-18 01:02:28 PM</td>\n",
       "    </tr>\n",
       "  </tbody>\n",
       "</table>\n",
       "</div>"
      ],
      "text/plain": [
       "               Name Twitter_handle  \\\n",
       "0              Emma        ederner   \n",
       "1              Emma        ederner   \n",
       "2         Highfield   askhighfield   \n",
       "3         Highfield   askhighfield   \n",
       "4  Sapphire Malcolm   malcolm34341   \n",
       "\n",
       "                                                text  \\\n",
       "0                                        Exams sorry   \n",
       "1  Took my ex in may I STILL don t have my certif...   \n",
       "2  Vocational and Technical Qualifications Result...   \n",
       "3  Have your own specific content and resources f...   \n",
       "4   on the i Not sure there any easy read any chance   \n",
       "\n",
       "                         location            Time_Created  \n",
       "0                      Nottingham  2020-08-20 03:12:21 PM  \n",
       "1                      Nottingham  2020-08-20 03:12:02 PM  \n",
       "2  Doncaster, South Yorkshire, UK  2020-08-20 03:00:28 PM  \n",
       "3  Doncaster, South Yorkshire, UK  2020-08-20 01:34:55 PM  \n",
       "4                  Leeds, England  2020-08-18 01:02:28 PM  "
      ]
     },
     "execution_count": 23,
     "metadata": {},
     "output_type": "execute_result"
    }
   ],
   "source": [
    "dataFrame1.head() #Displaying the cleaned Tweets"
   ]
  },
  {
   "cell_type": "code",
   "execution_count": null,
   "metadata": {},
   "outputs": [],
   "source": [
    "#dataFrame3['location'][33]='Nottingham'"
   ]
  },
  {
   "cell_type": "markdown",
   "metadata": {},
   "source": [
    "# Finding the sentiment expressed in a Tweet"
   ]
  },
  {
   "cell_type": "code",
   "execution_count": 24,
   "metadata": {},
   "outputs": [],
   "source": [
    "tweets=get_tweet_sentiment(tweets)"
   ]
  },
  {
   "cell_type": "code",
   "execution_count": 25,
   "metadata": {},
   "outputs": [],
   "source": [
    "dataFrame2=pd.DataFrame(tweets)"
   ]
  },
  {
   "cell_type": "code",
   "execution_count": 26,
   "metadata": {},
   "outputs": [
    {
     "data": {
      "text/html": [
       "<div>\n",
       "<style scoped>\n",
       "    .dataframe tbody tr th:only-of-type {\n",
       "        vertical-align: middle;\n",
       "    }\n",
       "\n",
       "    .dataframe tbody tr th {\n",
       "        vertical-align: top;\n",
       "    }\n",
       "\n",
       "    .dataframe thead th {\n",
       "        text-align: right;\n",
       "    }\n",
       "</style>\n",
       "<table border=\"1\" class=\"dataframe\">\n",
       "  <thead>\n",
       "    <tr style=\"text-align: right;\">\n",
       "      <th></th>\n",
       "      <th>Name</th>\n",
       "      <th>Twitter_handle</th>\n",
       "      <th>text</th>\n",
       "      <th>location</th>\n",
       "      <th>Time_Created</th>\n",
       "      <th>sentiment</th>\n",
       "    </tr>\n",
       "  </thead>\n",
       "  <tbody>\n",
       "    <tr>\n",
       "      <th>0</th>\n",
       "      <td>Emma</td>\n",
       "      <td>ederner</td>\n",
       "      <td>Exams sorry</td>\n",
       "      <td>Nottingham</td>\n",
       "      <td>2020-08-20 03:12:21 PM</td>\n",
       "      <td>Negative</td>\n",
       "    </tr>\n",
       "    <tr>\n",
       "      <th>1</th>\n",
       "      <td>Emma</td>\n",
       "      <td>ederner</td>\n",
       "      <td>Took my ex in may I STILL don t have my certif...</td>\n",
       "      <td>Nottingham</td>\n",
       "      <td>2020-08-20 03:12:02 PM</td>\n",
       "      <td>Neutral</td>\n",
       "    </tr>\n",
       "    <tr>\n",
       "      <th>2</th>\n",
       "      <td>Highfield</td>\n",
       "      <td>askhighfield</td>\n",
       "      <td>Vocational and Technical Qualifications Result...</td>\n",
       "      <td>Doncaster, South Yorkshire, UK</td>\n",
       "      <td>2020-08-20 03:00:28 PM</td>\n",
       "      <td>Positive</td>\n",
       "    </tr>\n",
       "    <tr>\n",
       "      <th>3</th>\n",
       "      <td>Highfield</td>\n",
       "      <td>askhighfield</td>\n",
       "      <td>Have your own specific content and resources f...</td>\n",
       "      <td>Doncaster, South Yorkshire, UK</td>\n",
       "      <td>2020-08-20 01:34:55 PM</td>\n",
       "      <td>Positive</td>\n",
       "    </tr>\n",
       "    <tr>\n",
       "      <th>4</th>\n",
       "      <td>Sapphire Malcolm</td>\n",
       "      <td>malcolm34341</td>\n",
       "      <td>on the i Not sure there any easy read any chance</td>\n",
       "      <td>Leeds, England</td>\n",
       "      <td>2020-08-18 01:02:28 PM</td>\n",
       "      <td>Positive</td>\n",
       "    </tr>\n",
       "  </tbody>\n",
       "</table>\n",
       "</div>"
      ],
      "text/plain": [
       "               Name Twitter_handle  \\\n",
       "0              Emma        ederner   \n",
       "1              Emma        ederner   \n",
       "2         Highfield   askhighfield   \n",
       "3         Highfield   askhighfield   \n",
       "4  Sapphire Malcolm   malcolm34341   \n",
       "\n",
       "                                                text  \\\n",
       "0                                        Exams sorry   \n",
       "1  Took my ex in may I STILL don t have my certif...   \n",
       "2  Vocational and Technical Qualifications Result...   \n",
       "3  Have your own specific content and resources f...   \n",
       "4   on the i Not sure there any easy read any chance   \n",
       "\n",
       "                         location            Time_Created sentiment  \n",
       "0                      Nottingham  2020-08-20 03:12:21 PM  Negative  \n",
       "1                      Nottingham  2020-08-20 03:12:02 PM   Neutral  \n",
       "2  Doncaster, South Yorkshire, UK  2020-08-20 03:00:28 PM  Positive  \n",
       "3  Doncaster, South Yorkshire, UK  2020-08-20 01:34:55 PM  Positive  \n",
       "4                  Leeds, England  2020-08-18 01:02:28 PM  Positive  "
      ]
     },
     "execution_count": 26,
     "metadata": {},
     "output_type": "execute_result"
    }
   ],
   "source": [
    "dataFrame2.head()   # Showing Tweets sentiment as Positive, Neutral or Negative comments about Highfield"
   ]
  },
  {
   "cell_type": "markdown",
   "metadata": {},
   "source": [
    "# # Obtain the GPS coordinates of Twitter User to establish Twitter user location"
   ]
  },
  {
   "cell_type": "code",
   "execution_count": 27,
   "metadata": {},
   "outputs": [
    {
     "name": "stdout",
     "output_type": "stream",
     "text": [
      "Getting coordinates for tweet locations...\n",
      "Done geocoding\n"
     ]
    }
   ],
   "source": [
    "get_geocodes(tweets)"
   ]
  },
  {
   "cell_type": "code",
   "execution_count": 28,
   "metadata": {},
   "outputs": [],
   "source": [
    "dataFrame3=pd.DataFrame(tweets)"
   ]
  },
  {
   "cell_type": "code",
   "execution_count": 29,
   "metadata": {},
   "outputs": [
    {
     "data": {
      "text/html": [
       "<div>\n",
       "<style scoped>\n",
       "    .dataframe tbody tr th:only-of-type {\n",
       "        vertical-align: middle;\n",
       "    }\n",
       "\n",
       "    .dataframe tbody tr th {\n",
       "        vertical-align: top;\n",
       "    }\n",
       "\n",
       "    .dataframe thead th {\n",
       "        text-align: right;\n",
       "    }\n",
       "</style>\n",
       "<table border=\"1\" class=\"dataframe\">\n",
       "  <thead>\n",
       "    <tr style=\"text-align: right;\">\n",
       "      <th></th>\n",
       "      <th>Name</th>\n",
       "      <th>Twitter_handle</th>\n",
       "      <th>text</th>\n",
       "      <th>location</th>\n",
       "      <th>Time_Created</th>\n",
       "      <th>sentiment</th>\n",
       "      <th>latitude</th>\n",
       "      <th>longitude</th>\n",
       "    </tr>\n",
       "  </thead>\n",
       "  <tbody>\n",
       "    <tr>\n",
       "      <th>0</th>\n",
       "      <td>Emma</td>\n",
       "      <td>ederner</td>\n",
       "      <td>Exams sorry</td>\n",
       "      <td>Nottingham</td>\n",
       "      <td>2020-08-20 03:12:21 PM</td>\n",
       "      <td>Negative</td>\n",
       "      <td>52.953416</td>\n",
       "      <td>-1.149277</td>\n",
       "    </tr>\n",
       "    <tr>\n",
       "      <th>1</th>\n",
       "      <td>Emma</td>\n",
       "      <td>ederner</td>\n",
       "      <td>Took my ex in may I STILL don t have my certif...</td>\n",
       "      <td>Nottingham</td>\n",
       "      <td>2020-08-20 03:12:02 PM</td>\n",
       "      <td>Neutral</td>\n",
       "      <td>52.953416</td>\n",
       "      <td>-1.149277</td>\n",
       "    </tr>\n",
       "    <tr>\n",
       "      <th>2</th>\n",
       "      <td>Highfield</td>\n",
       "      <td>askhighfield</td>\n",
       "      <td>Vocational and Technical Qualifications Result...</td>\n",
       "      <td>Doncaster, South Yorkshire, UK</td>\n",
       "      <td>2020-08-20 03:00:28 PM</td>\n",
       "      <td>Positive</td>\n",
       "      <td>53.522768</td>\n",
       "      <td>-1.133531</td>\n",
       "    </tr>\n",
       "    <tr>\n",
       "      <th>3</th>\n",
       "      <td>Highfield</td>\n",
       "      <td>askhighfield</td>\n",
       "      <td>Have your own specific content and resources f...</td>\n",
       "      <td>Doncaster, South Yorkshire, UK</td>\n",
       "      <td>2020-08-20 01:34:55 PM</td>\n",
       "      <td>Positive</td>\n",
       "      <td>53.522768</td>\n",
       "      <td>-1.133531</td>\n",
       "    </tr>\n",
       "    <tr>\n",
       "      <th>4</th>\n",
       "      <td>Sapphire Malcolm</td>\n",
       "      <td>malcolm34341</td>\n",
       "      <td>on the i Not sure there any easy read any chance</td>\n",
       "      <td>Leeds, England</td>\n",
       "      <td>2020-08-18 01:02:28 PM</td>\n",
       "      <td>Positive</td>\n",
       "      <td>53.797418</td>\n",
       "      <td>-1.543794</td>\n",
       "    </tr>\n",
       "  </tbody>\n",
       "</table>\n",
       "</div>"
      ],
      "text/plain": [
       "               Name Twitter_handle  \\\n",
       "0              Emma        ederner   \n",
       "1              Emma        ederner   \n",
       "2         Highfield   askhighfield   \n",
       "3         Highfield   askhighfield   \n",
       "4  Sapphire Malcolm   malcolm34341   \n",
       "\n",
       "                                                text  \\\n",
       "0                                        Exams sorry   \n",
       "1  Took my ex in may I STILL don t have my certif...   \n",
       "2  Vocational and Technical Qualifications Result...   \n",
       "3  Have your own specific content and resources f...   \n",
       "4   on the i Not sure there any easy read any chance   \n",
       "\n",
       "                         location            Time_Created sentiment  \\\n",
       "0                      Nottingham  2020-08-20 03:12:21 PM  Negative   \n",
       "1                      Nottingham  2020-08-20 03:12:02 PM   Neutral   \n",
       "2  Doncaster, South Yorkshire, UK  2020-08-20 03:00:28 PM  Positive   \n",
       "3  Doncaster, South Yorkshire, UK  2020-08-20 01:34:55 PM  Positive   \n",
       "4                  Leeds, England  2020-08-18 01:02:28 PM  Positive   \n",
       "\n",
       "    latitude  longitude  \n",
       "0  52.953416  -1.149277  \n",
       "1  52.953416  -1.149277  \n",
       "2  53.522768  -1.133531  \n",
       "3  53.522768  -1.133531  \n",
       "4  53.797418  -1.543794  "
      ]
     },
     "execution_count": 29,
     "metadata": {},
     "output_type": "execute_result"
    }
   ],
   "source": [
    "dataFrame3.head()"
   ]
  },
  {
   "cell_type": "markdown",
   "metadata": {},
   "source": [
    "# # Method to fit the Tweets on map to show Twitter users location"
   ]
  },
  {
   "cell_type": "code",
   "execution_count": null,
   "metadata": {},
   "outputs": [],
   "source": [
    "tweets[0]"
   ]
  },
  {
   "cell_type": "code",
   "execution_count": 45,
   "metadata": {},
   "outputs": [],
   "source": [
    "ukMap(tweets)"
   ]
  },
  {
   "cell_type": "code",
   "execution_count": 32,
   "metadata": {},
   "outputs": [
    {
     "data": {
      "text/html": [
       "\n",
       "        <iframe\n",
       "            width=\"600\"\n",
       "            height=\"700\"\n",
       "            src=\"./tweet_map.html/\"\n",
       "            frameborder=\"0\"\n",
       "            allowfullscreen\n",
       "        ></iframe>\n",
       "        "
      ],
      "text/plain": [
       "<IPython.lib.display.IFrame at 0x2379a5d3288>"
      ]
     },
     "execution_count": 32,
     "metadata": {},
     "output_type": "execute_result"
    }
   ],
   "source": [
    "from IPython.display import IFrame\n",
    "IFrame(src=\"./tweet_map.html/\", width=600,height=700)"
   ]
  },
  {
   "cell_type": "code",
   "execution_count": null,
   "metadata": {},
   "outputs": [],
   "source": []
  },
  {
   "cell_type": "markdown",
   "metadata": {},
   "source": [
    "# Method to show topical words discussed about Highfield"
   ]
  },
  {
   "cell_type": "code",
   "execution_count": 33,
   "metadata": {},
   "outputs": [
    {
     "data": {
      "image/png": "[encoded data removed]",
      "text/plain": [
       "<Figure size 864x864 with 1 Axes>"
      ]
     },
     "metadata": {
      "needs_background": "light"
     },
     "output_type": "display_data"
    }
   ],
   "source": [
    "show_WordCloud(tweets)"
   ]
  },
  {
   "cell_type": "markdown",
   "metadata": {},
   "source": [
    "# Streaming Tweets to Atlas Mongo Cloud Database"
   ]
  },
  {
   "cell_type": "code",
   "execution_count": 34,
   "metadata": {},
   "outputs": [],
   "source": [
    "from pymongo import MongoClient"
   ]
  },
  {
   "cell_type": "code",
   "execution_count": 35,
   "metadata": {},
   "outputs": [],
   "source": [
    "atlas_client = MongoClient(keys.mongo_connection_string)"
   ]
  },
  {
   "cell_type": "code",
   "execution_count": 36,
   "metadata": {},
   "outputs": [],
   "source": [
    "dbase = atlas_client.highfieldtweets"
   ]
  },
  {
   "cell_type": "code",
   "execution_count": 37,
   "metadata": {},
   "outputs": [
    {
     "name": "stdout",
     "output_type": "stream",
     "text": [
      "Successfully connected to Twitter\n",
      "\n"
     ]
    }
   ],
   "source": [
    "from tweetlistener import TweetListener"
   ]
  },
  {
   "cell_type": "code",
   "execution_count": 38,
   "metadata": {},
   "outputs": [],
   "source": [
    "tweet_limit=10"
   ]
  },
  {
   "cell_type": "code",
   "execution_count": 39,
   "metadata": {},
   "outputs": [],
   "source": [
    "twitter_stream=tweepy.Stream(api.auth,TweetListener(api,dbase,tweet_limit))"
   ]
  },
  {
   "cell_type": "code",
   "execution_count": 40,
   "metadata": {},
   "outputs": [],
   "source": [
    "twitter_stream.filter(follow=[\"297865638\"],is_async=True)"
   ]
  },
  {
   "cell_type": "code",
   "execution_count": 41,
   "metadata": {},
   "outputs": [
    {
     "data": {
      "text/plain": [
       "'$**_text'"
      ]
     },
     "execution_count": 41,
     "metadata": {},
     "output_type": "execute_result"
    }
   ],
   "source": [
    "dbase.tweets.create_index([('$**', 'text')])"
   ]
  },
  {
   "cell_type": "code",
   "execution_count": 42,
   "metadata": {},
   "outputs": [],
   "source": [
    "Twits=dbase.tweets.count_documents({\"$text\": {\"$search\": \"297865638\"}})"
   ]
  },
  {
   "cell_type": "code",
   "execution_count": 43,
   "metadata": {},
   "outputs": [
    {
     "data": {
      "text/plain": [
       "4"
      ]
     },
     "execution_count": 43,
     "metadata": {},
     "output_type": "execute_result"
    }
   ],
   "source": [
    "Twits"
   ]
  },
  {
   "cell_type": "code",
   "execution_count": null,
   "metadata": {},
   "outputs": [],
   "source": []
  }
 ],
 "metadata": {
  "kernelspec": {
   "display_name": "Python 3",
   "language": "python",
   "name": "python3"
  },
  "language_info": {
   "codemirror_mode": {
    "name": "ipython",
    "version": 3
   },
   "file_extension": ".py",
   "mimetype": "text/x-python",
   "name": "python",
   "nbconvert_exporter": "python",
   "pygments_lexer": "ipython3",
   "version": "3.7.7"
  }
 },
 "nbformat": 4,
 "nbformat_minor": 4
}
